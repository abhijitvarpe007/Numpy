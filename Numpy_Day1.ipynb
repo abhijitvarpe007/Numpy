{
 "cells": [
  {
   "cell_type": "code",
   "execution_count": 3,
   "metadata": {},
   "outputs": [
    {
     "name": "stdout",
     "output_type": "stream",
     "text": [
      "5\n",
      "1\n",
      "2\n",
      "3\n",
      "4\n",
      "5\n",
      "array('i', [1, 2, 3, 4, 5])\n"
     ]
    }
   ],
   "source": [
    "# BAsic array syntax\n",
    "from array import *\n",
    "arr=array('i',[])\n",
    "n=int(input())\n",
    "for i in range(n):\n",
    "    x=int(input())\n",
    "    arr.append(x)\n",
    "print(arr)"
   ]
  },
  {
   "cell_type": "code",
   "execution_count": null,
   "metadata": {},
   "outputs": [],
   "source": []
  },
  {
   "cell_type": "code",
   "execution_count": 34,
   "metadata": {},
   "outputs": [
    {
     "name": "stdout",
     "output_type": "stream",
     "text": [
      "[1 5 9]\n",
      "[[1 2 3]\n",
      " [4 5 6]\n",
      " [7 8 9]]\n"
     ]
    }
   ],
   "source": [
    "# Basic practics\n",
    "from numpy import *\n",
    "num=[1,2,3,4,5,6,7,8,9]\n",
    "num=array(num)\n",
    "m=num.reshape(3,3)\n",
    "print(diagonal(m))\n",
    "print(m)"
   ]
  },
  {
   "cell_type": "code",
   "execution_count": 37,
   "metadata": {},
   "outputs": [
    {
     "name": "stdout",
     "output_type": "stream",
     "text": [
      "[[1 2 3]\n",
      " [4 5 6]]\n",
      "(2, 3)\n"
     ]
    }
   ],
   "source": [
    "# Create numpy array\n",
    "num=[[1,2,3],[4,5,6]]\n",
    "num=array(num)\n",
    "print(num)\n",
    "print(num.shape)"
   ]
  },
  {
   "cell_type": "code",
   "execution_count": 76,
   "metadata": {},
   "outputs": [
    {
     "name": "stdout",
     "output_type": "stream",
     "text": [
      "[[ 1  2]\n",
      " [ 3  4]\n",
      " [ 5  6]\n",
      " [ 7  8]\n",
      " [ 9 10]]\n"
     ]
    }
   ],
   "source": [
    "# Reshapping of data\n",
    "from numpy import *\n",
    "# ran_arr=random.randint(1,100,20)\n",
    "# ran_arr=ran_arr.reshape(4,5)\n",
    "# print(ran_arr)\n",
    "arr=arange(1,11)\n",
    "arr=arr.reshape(5,-1)\n",
    "print(arr)\n",
    "\n"
   ]
  },
  {
   "cell_type": "code",
   "execution_count": 98,
   "metadata": {},
   "outputs": [
    {
     "name": "stdout",
     "output_type": "stream",
     "text": [
      "20\n"
     ]
    }
   ],
   "source": [
    "#Seed function()\n",
    "from numpy import *\n",
    "random.seed(5)          # number does not chnage after executing multiple time\n",
    "arr=random.randint(1,100,20)\n",
    "print(arr.size)\n",
    "\n"
   ]
  },
  {
   "cell_type": "code",
   "execution_count": 110,
   "metadata": {},
   "outputs": [
    {
     "name": "stdout",
     "output_type": "stream",
     "text": [
      "8\n",
      "[4 5 6]\n",
      "[1 2]\n"
     ]
    }
   ],
   "source": [
    "# Indexing and Slicing of 1_d array\n",
    "arr=arange(1,11)\n",
    "print(arr[-3])\n",
    "print(arr[3:6])      # slicing\n",
    "print(arr[:2])"
   ]
  },
  {
   "cell_type": "code",
   "execution_count": 154,
   "metadata": {},
   "outputs": [
    {
     "name": "stdout",
     "output_type": "stream",
     "text": [
      "[[ 1  2  3  4  5]\n",
      " [ 6  7  8  9 10]\n",
      " [11 12 13 14 15]\n",
      " [16 17 18 19 20]]\n",
      "[[ 7  8]\n",
      " [12 13]]\n"
     ]
    }
   ],
   "source": [
    "# Indexing and slicing of 2d array\n",
    "arr=arange(1,21)\n",
    "arr=arr.reshape(4,5)\n",
    "m=matrix(arr) \n",
    "print(m)\n",
    "print(m[1:3,1:3])"
   ]
  },
  {
   "cell_type": "code",
   "execution_count": 4,
   "metadata": {},
   "outputs": [
    {
     "name": "stdout",
     "output_type": "stream",
     "text": [
      "[0 0 0]\n",
      "[1 5 0 0 0 3]\n"
     ]
    }
   ],
   "source": [
    "#view and copy function\n",
    "from numpy import *\n",
    "arr=array([1,5,4,7,8,3])\n",
    "slic_arr=arr[2:5]\n",
    "slic_arr[:]=0\n",
    "print(slic_arr)\n",
    "print(arr)"
   ]
  },
  {
   "cell_type": "code",
   "execution_count": 12,
   "metadata": {},
   "outputs": [
    {
     "name": "stdout",
     "output_type": "stream",
     "text": [
      "[1 2 3]\n",
      "[ 2  4  6  8 10]\n"
     ]
    }
   ],
   "source": [
    "# Condtional selection\n",
    "from numpy import *\n",
    "arr=arange(1,11)\n",
    "max=arr[arr%2==0]\n",
    "print(arr[arr<4])\n",
    "print(max)"
   ]
  },
  {
   "cell_type": "code",
   "execution_count": 16,
   "metadata": {},
   "outputs": [
    {
     "name": "stdout",
     "output_type": "stream",
     "text": [
      "[ 2  8 14 18]\n",
      "[ 6  9 12 14]\n",
      "[ 1 16 49 81]\n"
     ]
    }
   ],
   "source": [
    "# operation on array\n",
    "from numpy import *\n",
    "arr=array([1,4,7,9])\n",
    "print(arr*2)\n",
    "print(arr+5)\n",
    "print(arr**2)"
   ]
  },
  {
   "cell_type": "code",
   "execution_count": 19,
   "metadata": {},
   "outputs": [
    {
     "name": "stdout",
     "output_type": "stream",
     "text": [
      "[[411 421 444]\n",
      " [543 556 564]\n",
      " [576 588 723]]\n",
      "\n"
     ]
    }
   ],
   "source": [
    "from numpy import *\n",
    "random.seed(123)\n",
    "matrix1=random.randint(1,12,9).reshape(3,3)\n",
    "matrix2=random.randint(30,40,9).reshape(3,3)\n",
    "print(matrix1.dot(matrix2))\n",
    "print()"
   ]
  },
  {
   "cell_type": "code",
   "execution_count": 27,
   "metadata": {},
   "outputs": [
    {
     "name": "stdout",
     "output_type": "stream",
     "text": [
      "[[14  3  3]\n",
      " [ 7 18 11]\n",
      " [ 2  1 18]]\n",
      "[[3.74165739 1.73205081 1.73205081]\n",
      " [2.64575131 4.24264069 3.31662479]\n",
      " [1.41421356 1.         4.24264069]]\n",
      "[[1.20260428e+06 2.00855369e+01 2.00855369e+01]\n",
      " [1.09663316e+03 6.56599691e+07 5.98741417e+04]\n",
      " [7.38905610e+00 2.71828183e+00 6.56599691e+07]]\n",
      "1\n",
      "18\n",
      "[14 18 18]\n"
     ]
    }
   ],
   "source": [
    "from numpy import *\n",
    "random.seed(123)\n",
    "arr=random.randint(1,20,9).reshape(3,3)\n",
    "print(arr)\n",
    "print(sqrt(arr))\n",
    "print(exp(arr))\n",
    "print(arr.min())\n",
    "print(arr.max())\n",
    "print(arr.diagonal())"
   ]
  },
  {
   "cell_type": "code",
   "execution_count": 35,
   "metadata": {},
   "outputs": [
    {
     "name": "stdout",
     "output_type": "stream",
     "text": [
      "[[ 3  3  7]\n",
      " [ 2  4 10]\n",
      " [ 7  2  1]]\n",
      "[3 2 1]\n",
      "[2 2 1]\n",
      "[13 16 10]\n",
      "[63 80 14]\n"
     ]
    }
   ],
   "source": [
    "# Axis tutorials\n",
    "from numpy import *\n",
    "random.seed(123)\n",
    "arr=random.randint(1,11,9).reshape(3,3)\n",
    "print(arr)\n",
    "# print(sum(arr))\n",
    "# print(arr.sum())\n",
    "print(arr.min(axis=1))\n",
    "print(arr.min(axis=0))\n",
    "print(arr.sum(axis=1))\n",
    "print(arr.prod(axis=1))"
   ]
  },
  {
   "cell_type": "code",
   "execution_count": 43,
   "metadata": {},
   "outputs": [
    {
     "name": "stdout",
     "output_type": "stream",
     "text": [
      "10\n",
      "(array([ 1,  2,  3,  4,  7, 10, 11, 12, 13, 14]), array([ 8,  1,  6,  0,  7, 12,  2,  3,  4, 14], dtype=int64), array([1, 3, 2, 1, 2, 2, 1, 1, 1, 1], dtype=int64))\n",
      "[ 4  2 11 12 13  2  3  7  1  2  7  3 10 10 14]\n"
     ]
    }
   ],
   "source": [
    "from numpy import *\n",
    "random.seed(123)\n",
    "arr=random.randint(1,15,15)\n",
    "random.shuffle(arr)\n",
    "print(unique(arr).size)\n",
    "print(unique(arr,return_index=True,return_counts=True))\n",
    "print(arr)"
   ]
  },
  {
   "cell_type": "code",
   "execution_count": 48,
   "metadata": {},
   "outputs": [
    {
     "name": "stdout",
     "output_type": "stream",
     "text": [
      "[[14  3  3 35 29 20]\n",
      " [ 7 18 11 34 20 35]\n",
      " [ 2  1 18 39 34 24]]\n",
      "[[35 29 20 14  3  3]\n",
      " [34 20 35  7 18 11]\n",
      " [39 34 24  2  1 18]]\n",
      "[[14  3  3]\n",
      " [ 7 18 11]\n",
      " [ 2  1 18]\n",
      " [35 29 20]\n",
      " [34 20 35]\n",
      " [39 34 24]]\n"
     ]
    }
   ],
   "source": [
    "from numpy import *\n",
    "random.seed(123)\n",
    "arr1=random.randint(1,20,9).reshape(3,3)\n",
    "arr2=random.randint(20,40,9).reshape(3,3)\n",
    "print(hstack((arr1,arr2)))\n",
    "print(hstack((arr2,arr1)))\n",
    "print(vstack((arr1,arr2)))"
   ]
  },
  {
   "cell_type": "code",
   "execution_count": 1,
   "metadata": {},
   "outputs": [
    {
     "name": "stdout",
     "output_type": "stream",
     "text": [
      "[1 2 3 4 5 6 7 8]\n",
      "[[1 2 3 4]\n",
      " [5 6 7 8]]\n"
     ]
    }
   ],
   "source": [
    "from numpy import *\n",
    "arr=array([1,2,3,4])\n",
    "arr1=array([5,6,7,8])\n",
    "print(hstack((arr,arr1)))\n",
    "print(vstack((arr,arr1)))"
   ]
  }
 ],
 "metadata": {
  "kernelspec": {
   "display_name": "Python 3",
   "language": "python",
   "name": "python3"
  },
  "language_info": {
   "codemirror_mode": {
    "name": "ipython",
    "version": 3
   },
   "file_extension": ".py",
   "mimetype": "text/x-python",
   "name": "python",
   "nbconvert_exporter": "python",
   "pygments_lexer": "ipython3",
   "version": "3.7.4"
  }
 },
 "nbformat": 4,
 "nbformat_minor": 4
}
