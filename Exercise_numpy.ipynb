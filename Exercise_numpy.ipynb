{
 "cells": [
  {
   "cell_type": "code",
   "execution_count": 2,
   "metadata": {},
   "outputs": [
    {
     "name": "stdout",
     "output_type": "stream",
     "text": [
      "array('i', [1, 2, 3, 4])\n"
     ]
    }
   ],
   "source": [
    "from array import *\n",
    "arr=array('i',[1,2,3,4])\n",
    "print(arr)\n"
   ]
  },
  {
   "cell_type": "code",
   "execution_count": 3,
   "metadata": {},
   "outputs": [
    {
     "name": "stdout",
     "output_type": "stream",
     "text": [
      "[20 21 22 23 24 25 26 27 28 29 30 31 32 33 34 35 36 37 38 39 40]\n"
     ]
    }
   ],
   "source": [
    "from numpy import *\n",
    "arr=arange(20,41)\n",
    "print(arr)"
   ]
  },
  {
   "cell_type": "code",
   "execution_count": 18,
   "metadata": {},
   "outputs": [
    {
     "name": "stdout",
     "output_type": "stream",
     "text": [
      "[5. 5. 5. 5. 5. 5. 5. 5. 5. 5.]\n"
     ]
    }
   ],
   "source": [
    "fives=ones(10)*5\n",
    "print(fives)"
   ]
  },
  {
   "cell_type": "code",
   "execution_count": 19,
   "metadata": {},
   "outputs": [
    {
     "name": "stdout",
     "output_type": "stream",
     "text": [
      "[[[12 28]\n",
      "  [ 7 50]\n",
      "  [ 3  4]\n",
      "  [ 4 13]]\n",
      "\n",
      " [[49 23]\n",
      "  [50 53]\n",
      "  [ 6 14]\n",
      "  [26 35]]\n",
      "\n",
      " [[12 55]\n",
      "  [11  1]\n",
      "  [54 41]\n",
      "  [13 14]]]\n",
      "[[20 21 22]\n",
      " [23 24 25]\n",
      " [26 27 28]]\n"
     ]
    }
   ],
   "source": [
    "from numpy import *\n",
    "random.seed(12)\n",
    "arr1=random.randint(1,56,24).reshape(3,4,2)\n",
    "arr=arange(20,29).reshape(3,3)\n",
    "print(arr1)\n",
    "print(arr)"
   ]
  },
  {
   "cell_type": "code",
   "execution_count": 12,
   "metadata": {},
   "outputs": [
    {
     "name": "stdout",
     "output_type": "stream",
     "text": [
      "[[1 1 0 1 1 0 1 1 0 0 0 1]\n",
      " [0 1 1 1 0 1 0 0 0 1 0 0]]\n"
     ]
    }
   ],
   "source": [
    "from numpy import *\n",
    "random.seed(12)\n",
    "arr=random.randint(0,2,24).reshape(2,-1)\n",
    "print(arr)"
   ]
  },
  {
   "cell_type": "code",
   "execution_count": 22,
   "metadata": {},
   "outputs": [
    {
     "name": "stdout",
     "output_type": "stream",
     "text": [
      "[-1 -1  7  3 -1 -1 77 49 23 -1 53 -1 -1 -1 35 -1 75  1 77 -1]\n"
     ]
    }
   ],
   "source": [
    "from numpy import *\n",
    "random.seed(12)\n",
    "arr=random.randint(1,100,20)\n",
    "arr[arr%2==0]=-1\n",
    "print(arr)"
   ]
  }
 ],
 "metadata": {
  "kernelspec": {
   "display_name": "Python 3",
   "language": "python",
   "name": "python3"
  },
  "language_info": {
   "codemirror_mode": {
    "name": "ipython",
    "version": 3
   },
   "file_extension": ".py",
   "mimetype": "text/x-python",
   "name": "python",
   "nbconvert_exporter": "python",
   "pygments_lexer": "ipython3",
   "version": "3.7.4"
  }
 },
 "nbformat": 4,
 "nbformat_minor": 2
}
